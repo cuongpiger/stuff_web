{
 "cells": [
  {
   "cell_type": "code",
   "execution_count": 2,
   "metadata": {},
   "outputs": [],
   "source": [
    "import requests"
   ]
  },
  {
   "cell_type": "code",
   "execution_count": 4,
   "metadata": {},
   "outputs": [],
   "source": [
    "endpoint = \"https://httpbin.org/status/200\"\n",
    "endpoint = \"https://httpbin.org/anything\""
   ]
  },
  {
   "cell_type": "code",
   "execution_count": null,
   "metadata": {},
   "outputs": [],
   "source": [
    "requests.get() # api = application programming interface"
   ]
  }
 ],
 "metadata": {
  "interpreter": {
   "hash": "b1d8724442ab960a335185ba3fdf0490fbb210773cfc78098e9a1593e28f2736"
  },
  "kernelspec": {
   "display_name": "Python 3.9.12 ('django_4.0')",
   "language": "python",
   "name": "python3"
  },
  "language_info": {
   "codemirror_mode": {
    "name": "ipython",
    "version": 3
   },
   "file_extension": ".py",
   "mimetype": "text/x-python",
   "name": "python",
   "nbconvert_exporter": "python",
   "pygments_lexer": "ipython3",
   "version": "3.9.12"
  },
  "orig_nbformat": 4
 },
 "nbformat": 4,
 "nbformat_minor": 2
}
